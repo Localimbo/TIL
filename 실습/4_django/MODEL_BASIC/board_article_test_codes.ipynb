{
 "cells": [
  {
   "cell_type": "markdown",
   "metadata": {},
   "source": [
    "\n",
    "\n",
    "# CRUD Basic \n",
    "\n",
    "## CRUD Operation\n",
    "\n",
    "- Create => 데이터 생성\n",
    "- Read(Retrieve) => 데이터 조회 \n",
    "- Update => 데이터 수정\n",
    "- Delete => 데이터 삭제 \n",
    "\n",
    "## Articles Table\n",
    "\n",
    "| Field  Name | Data type                   |\n",
    "| ----------- | --------------------------- |\n",
    "| `id`        | Interger, Primary Keu       |\n",
    "| `title`     | CharField(max_length ==200) |\n",
    "| `content`   | TextField()                 |\n",
    "\n",
    "\n",
    "\n"
   ]
  },
  {
   "cell_type": "code",
   "execution_count": 1,
   "metadata": {
    "ExecuteTime": {
     "end_time": "2019-06-04T08:32:40.645153Z",
     "start_time": "2019-06-04T08:32:40.640153Z"
    }
   },
   "outputs": [],
   "source": [
    "from board.models import Article"
   ]
  },
  {
   "cell_type": "markdown",
   "metadata": {},
   "source": [
    "## Create (데이터 생성) \n",
    "1. `Article` 객체를 생성한다. \n",
    "2. 필드를 채운다. \n",
    "3. 저장한다. "
   ]
  },
  {
   "cell_type": "code",
   "execution_count": 2,
   "metadata": {
    "ExecuteTime": {
     "end_time": "2019-06-04T08:32:41.539153Z",
     "start_time": "2019-06-04T08:32:41.537153Z"
    }
   },
   "outputs": [],
   "source": [
    "# 생성 => 필드 채우기 => 저장\n",
    " \n",
    "# article = Article()\n",
    "\n",
    "# article.title = 'Test'\n",
    "# article.content = 'This is text article'\n",
    "\n",
    "# article.save()"
   ]
  },
  {
   "cell_type": "code",
   "execution_count": 3,
   "metadata": {
    "ExecuteTime": {
     "end_time": "2019-06-04T08:32:42.084153Z",
     "start_time": "2019-06-04T08:32:41.996153Z"
    }
   },
   "outputs": [],
   "source": [
    "# 생성 & 필드 채우기 => 저장 \n",
    "# article = Article(title='2 step', content='Create')\n",
    "# article.save()"
   ]
  },
  {
   "cell_type": "code",
   "execution_count": 4,
   "metadata": {
    "ExecuteTime": {
     "end_time": "2019-06-04T08:32:42.610753Z",
     "start_time": "2019-06-04T08:32:42.497153Z"
    }
   },
   "outputs": [
    {
     "data": {
      "text/plain": [
       "<Article: 9: OneLine - Test article>"
      ]
     },
     "execution_count": 4,
     "metadata": {},
     "output_type": "execute_result"
    }
   ],
   "source": [
    "# 생성 & 필드 채우기 & 저장 \n",
    "# (Article.objects).create(title='OneLine', content='Test article')"
   ]
  },
  {
   "cell_type": "markdown",
   "metadata": {},
   "source": [
    "## Read (데이터 조회)\n",
    "1. 여러개 조회 - 없으면, 비어있는 [ ]\n",
    "    * **전체 조회**\n",
    "    * 특정 조건을 만족하는 레코드들 조회 \n",
    "2. 정확히 한 개 조회 - 없으면, 에러\n",
    "    * **id(pk)로 조회**\n",
    "    * 특정 조건을 만족하는 첫 번째 레코드 조회"
   ]
  },
  {
   "cell_type": "code",
   "execution_count": 2,
   "metadata": {
    "ExecuteTime": {
     "end_time": "2019-06-05T01:16:54.189397Z",
     "start_time": "2019-06-05T01:16:54.161397Z"
    }
   },
   "outputs": [
    {
     "data": {
      "text/plain": [
       "<QuerySet [<Article: 1: 6pm - Time to go home!>, <Article: 2: Bye - >, <Article: 4: Test - This is text article>, <Article: 6: Test - This is text article>, <Article: 7: Test - This is text article>, <Article: 8: 2 step - Create>, <Article: 9: OneLine - Test article>]>"
      ]
     },
     "execution_count": 2,
     "metadata": {},
     "output_type": "execute_result"
    }
   ],
   "source": [
    "# 전체 조회    \n",
    "# Article 이라는 object를 관리하는 매니저 (---)님! 다 가지고 오세요 all() 란 의미\n",
    "(Article.objects).all()"
   ]
  },
  {
   "cell_type": "code",
   "execution_count": 3,
   "metadata": {
    "ExecuteTime": {
     "end_time": "2019-06-05T01:16:56.137397Z",
     "start_time": "2019-06-05T01:16:56.124397Z"
    }
   },
   "outputs": [
    {
     "data": {
      "text/plain": [
       "<Article: 7: Test - This is text article>"
      ]
     },
     "execution_count": 3,
     "metadata": {},
     "output_type": "execute_result"
    }
   ],
   "source": [
    "# id로 1개 조회\n",
    "(Article.objects).get(id=7)"
   ]
  },
  {
   "cell_type": "markdown",
   "metadata": {},
   "source": [
    "## Update (데이터 수정) \n",
    "1. `Article` 객체를 하나 고른다.\n",
    "2. 필드를 알맞게 수정한다.\n",
    "3. 저장한다."
   ]
  },
  {
   "cell_type": "code",
   "execution_count": 7,
   "metadata": {
    "ExecuteTime": {
     "end_time": "2019-06-04T08:32:45.645153Z",
     "start_time": "2019-06-04T08:32:45.569953Z"
    }
   },
   "outputs": [],
   "source": [
    "article = Article.objects.get(id=1)\n",
    "\n",
    "article.title = '6pm'\n",
    "article.content = 'Time to go home!'\n",
    "\n",
    "article.save()"
   ]
  },
  {
   "cell_type": "markdown",
   "metadata": {},
   "source": [
    "## Delete (데이터 삭제)\n",
    "1. `Article` 객체를 하나 고른다\n",
    "2. 삭제한다"
   ]
  },
  {
   "cell_type": "code",
   "execution_count": 1,
   "metadata": {
    "ExecuteTime": {
     "end_time": "2019-06-05T00:47:10.931397Z",
     "start_time": "2019-06-05T00:47:10.926397Z"
    }
   },
   "outputs": [],
   "source": [
    "# article = Article.objects.get(id=5)\n",
    "\n",
    "# article.delete()"
   ]
  },
  {
   "cell_type": "code",
   "execution_count": null,
   "metadata": {},
   "outputs": [],
   "source": []
  },
  {
   "cell_type": "code",
   "execution_count": null,
   "metadata": {},
   "outputs": [],
   "source": []
  },
  {
   "cell_type": "code",
   "execution_count": null,
   "metadata": {},
   "outputs": [],
   "source": []
  },
  {
   "cell_type": "code",
   "execution_count": null,
   "metadata": {},
   "outputs": [],
   "source": []
  },
  {
   "cell_type": "code",
   "execution_count": null,
   "metadata": {},
   "outputs": [],
   "source": []
  },
  {
   "cell_type": "code",
   "execution_count": null,
   "metadata": {},
   "outputs": [],
   "source": []
  },
  {
   "cell_type": "code",
   "execution_count": null,
   "metadata": {},
   "outputs": [],
   "source": []
  },
  {
   "cell_type": "code",
   "execution_count": null,
   "metadata": {},
   "outputs": [],
   "source": []
  },
  {
   "cell_type": "code",
   "execution_count": null,
   "metadata": {},
   "outputs": [],
   "source": []
  },
  {
   "cell_type": "code",
   "execution_count": null,
   "metadata": {},
   "outputs": [],
   "source": []
  }
 ],
 "metadata": {
  "kernelspec": {
   "display_name": "Django Shell-Plus",
   "language": "python",
   "name": "django_extensions"
  },
  "language_info": {
   "codemirror_mode": {
    "name": "ipython",
    "version": 3
   },
   "file_extension": ".py",
   "mimetype": "text/x-python",
   "name": "python",
   "nbconvert_exporter": "python",
   "pygments_lexer": "ipython3",
   "version": "3.7.3"
  },
  "toc": {
   "base_numbering": 1,
   "nav_menu": {},
   "number_sections": true,
   "sideBar": true,
   "skip_h1_title": false,
   "title_cell": "Table of Contents",
   "title_sidebar": "Contents",
   "toc_cell": false,
   "toc_position": {},
   "toc_section_display": true,
   "toc_window_display": false
  }
 },
 "nbformat": 4,
 "nbformat_minor": 2
}
